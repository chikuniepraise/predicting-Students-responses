{
 "cells": [
  {
   "cell_type": "markdown",
   "metadata": {},
   "source": [
    "## Import dependencies\n",
    " \n",
    "\n",
    "✅ Model Validation"
   ]
  },
  {
   "cell_type": "code",
   "execution_count": 157,
   "metadata": {},
   "outputs": [],
   "source": [
    "import pandas as pd\n",
    "import numpy as np\n",
    "import os\n",
    "import re  # Import the re module for regular expressions\n",
    "from sklearn.model_selection import train_test_split\n",
    "from sklearn.linear_model import LogisticRegression\n",
    "from sklearn.metrics import accuracy_score, precision_score, recall_score, f1_score, classification_report\n",
    "from sklearn.impute import SimpleImputer\n",
    "from sklearn.ensemble import RandomForestClassifier"
   ]
  },
  {
   "cell_type": "markdown",
   "metadata": {},
   "source": [
    "## Mount Google Drive to access files (Run this cell and follow the instructions)"
   ]
  },
  {
   "cell_type": "code",
   "execution_count": null,
   "metadata": {},
   "outputs": [],
   "source": [
    "from google.colab import drive\n",
    "drive.mount('/content/drive')"
   ]
  },
  {
   "cell_type": "markdown",
   "metadata": {},
   "source": [
    "## Store the clened files in the array"
   ]
  },
  {
   "cell_type": "code",
   "execution_count": 146,
   "metadata": {},
   "outputs": [
    {
     "data": {
      "text/plain": [
       "61"
      ]
     },
     "execution_count": 146,
     "metadata": {},
     "output_type": "execute_result"
    }
   ],
   "source": [
    "csv_files = [\n",
    "    \"1984.csv\",\n",
    "    \"alice.csv\",\n",
    "    \"anne.csv\",\n",
    "    \"baskervilles.csv\",\n",
    "    \"black beauty.csv\",\n",
    "    \"brazilian.csv\",\n",
    "    \"charlottes.csv\",\n",
    "    \"court life.csv\",\n",
    "    \"DORIAN.csv\",\n",
    "    \"dreams of a giant life.csv\",\n",
    "    \"economics.csv\",\n",
    "    \"fauntleroy.csv\",\n",
    "    \"frankenstein.csv\",\n",
    "    \"friendship.csv\",\n",
    "    \"frost.csv\",\n",
    "    \"gatsby.csv\",\n",
    "    \"gibson.csv\",\n",
    "    \"growth.csv\",\n",
    "    \"gulliver.csv\",\n",
    "    \"homing pigeon.csv\",\n",
    "    \"honeybees.csv\",\n",
    "    \"huck.csv\",\n",
    "    \"i have a dream.csv\",\n",
    "    \"jabberwocky.csv\",\n",
    "    \"JANE EYRE.csv\",\n",
    "    \"jekyll.csv\",\n",
    "    \"lion.csv\",\n",
    "    \"little women.csv\",\n",
    "    \"lochinvar.csv\",\n",
    "    \"lost treasure.csv\",\n",
    "    \"magic city.csv\",\n",
    "    \"marathon.csv\",\n",
    "    \"matilda.csv\",\n",
    "    \"meg.csv\",\n",
    "    \"no enemies.csv\",\n",
    "    \"nothing gold.csv\",\n",
    "    \"NOTRE DAME.csv\",\n",
    "    \"oliver twist -master.csv\",\n",
    "    \"oliver twist -room.csv\",\n",
    "    \"patagonia.csv\",\n",
    "    \"peter.csv\",\n",
    "    \"rebecca.csv\",\n",
    "    \"sea fever.csv\",\n",
    "    \"secret garden.csv\",\n",
    "    \"sense.csv\",\n",
    "    \"shiba.csv\",\n",
    "    \"snowy river.csv\",\n",
    "    \"sonnet 18.csv\",\n",
    "    \"stopping by.csv\",\n",
    "    \"this is going to hurt.csv\",\n",
    "    \"THOSE WINTER.csv\",\n",
    "    \"tom sawyer.csv\",\n",
    "    \"treasure island.csv\",\n",
    "    \"tyger.csv\",\n",
    "    \"umami.csv\",\n",
    "    \"van.csv\",\n",
    "    \"voyage.csv\",\n",
    "    \"war of the worlds.csv\",\n",
    "    \"when u r old.csv\",\n",
    "    \"wind in the willows.csv\",\n",
    "    \"wizard.csv\"\n",
    "]\n",
    "len(csv_files)"
   ]
  },
  {
   "cell_type": "markdown",
   "metadata": {},
   "source": [
    "## Organise the data\n",
    "🧹 Data Cleaning "
   ]
  },
  {
   "cell_type": "code",
   "execution_count": 147,
   "metadata": {},
   "outputs": [
    {
     "data": {
      "text/html": [
       "<div>\n",
       "<style scoped>\n",
       "    .dataframe tbody tr th:only-of-type {\n",
       "        vertical-align: middle;\n",
       "    }\n",
       "\n",
       "    .dataframe tbody tr th {\n",
       "        vertical-align: top;\n",
       "    }\n",
       "\n",
       "    .dataframe thead th {\n",
       "        text-align: right;\n",
       "    }\n",
       "</style>\n",
       "<table border=\"1\" class=\"dataframe\">\n",
       "  <thead>\n",
       "    <tr style=\"text-align: right;\">\n",
       "      <th></th>\n",
       "      <th>Name</th>\n",
       "      <th>Question</th>\n",
       "      <th>Answer</th>\n",
       "      <th>Type</th>\n",
       "      <th>data1</th>\n",
       "      <th>data2</th>\n",
       "      <th>data3</th>\n",
       "      <th>data4</th>\n",
       "      <th>data5</th>\n",
       "    </tr>\n",
       "  </thead>\n",
       "  <tbody>\n",
       "    <tr>\n",
       "      <th>0</th>\n",
       "      <td>1984</td>\n",
       "      <td>1.0</td>\n",
       "      <td>A</td>\n",
       "      <td>Fiction</td>\n",
       "      <td>A</td>\n",
       "      <td>A</td>\n",
       "      <td>A</td>\n",
       "      <td>A</td>\n",
       "      <td>A</td>\n",
       "    </tr>\n",
       "    <tr>\n",
       "      <th>1</th>\n",
       "      <td>1984</td>\n",
       "      <td>2.0</td>\n",
       "      <td>B</td>\n",
       "      <td>Fiction</td>\n",
       "      <td>B</td>\n",
       "      <td>B</td>\n",
       "      <td>B</td>\n",
       "      <td>B</td>\n",
       "      <td>B</td>\n",
       "    </tr>\n",
       "    <tr>\n",
       "      <th>2</th>\n",
       "      <td>1984</td>\n",
       "      <td>3.0</td>\n",
       "      <td>C</td>\n",
       "      <td>Fiction</td>\n",
       "      <td>C</td>\n",
       "      <td>C</td>\n",
       "      <td>C</td>\n",
       "      <td>C</td>\n",
       "      <td>C</td>\n",
       "    </tr>\n",
       "    <tr>\n",
       "      <th>3</th>\n",
       "      <td>1984</td>\n",
       "      <td>4.0</td>\n",
       "      <td>A</td>\n",
       "      <td>Fiction</td>\n",
       "      <td>A</td>\n",
       "      <td>A</td>\n",
       "      <td>A</td>\n",
       "      <td>A</td>\n",
       "      <td>A</td>\n",
       "    </tr>\n",
       "    <tr>\n",
       "      <th>4</th>\n",
       "      <td>1984</td>\n",
       "      <td>5.0</td>\n",
       "      <td>B</td>\n",
       "      <td>Fiction</td>\n",
       "      <td>B</td>\n",
       "      <td>B</td>\n",
       "      <td>A</td>\n",
       "      <td>B</td>\n",
       "      <td>C</td>\n",
       "    </tr>\n",
       "    <tr>\n",
       "      <th>...</th>\n",
       "      <td>...</td>\n",
       "      <td>...</td>\n",
       "      <td>...</td>\n",
       "      <td>...</td>\n",
       "      <td>...</td>\n",
       "      <td>...</td>\n",
       "      <td>...</td>\n",
       "      <td>...</td>\n",
       "      <td>...</td>\n",
       "    </tr>\n",
       "    <tr>\n",
       "      <th>935</th>\n",
       "      <td>wizard</td>\n",
       "      <td>5.0</td>\n",
       "      <td>D</td>\n",
       "      <td>Fiction</td>\n",
       "      <td>D</td>\n",
       "      <td>A</td>\n",
       "      <td>A</td>\n",
       "      <td>A</td>\n",
       "      <td>A</td>\n",
       "    </tr>\n",
       "    <tr>\n",
       "      <th>936</th>\n",
       "      <td>wizard</td>\n",
       "      <td>6.0</td>\n",
       "      <td>A</td>\n",
       "      <td>Fiction</td>\n",
       "      <td>B</td>\n",
       "      <td>A</td>\n",
       "      <td>A</td>\n",
       "      <td>A</td>\n",
       "      <td>A</td>\n",
       "    </tr>\n",
       "    <tr>\n",
       "      <th>937</th>\n",
       "      <td>wizard</td>\n",
       "      <td>7.0</td>\n",
       "      <td>D</td>\n",
       "      <td>Fiction</td>\n",
       "      <td>B</td>\n",
       "      <td>D</td>\n",
       "      <td>B</td>\n",
       "      <td>D</td>\n",
       "      <td>D</td>\n",
       "    </tr>\n",
       "    <tr>\n",
       "      <th>940</th>\n",
       "      <td>wizard</td>\n",
       "      <td>10.0</td>\n",
       "      <td>C</td>\n",
       "      <td>Fiction</td>\n",
       "      <td>B</td>\n",
       "      <td>C</td>\n",
       "      <td>C</td>\n",
       "      <td>B</td>\n",
       "      <td>B</td>\n",
       "    </tr>\n",
       "    <tr>\n",
       "      <th>943</th>\n",
       "      <td>wizard</td>\n",
       "      <td>13.0</td>\n",
       "      <td>D</td>\n",
       "      <td>Fiction</td>\n",
       "      <td>D</td>\n",
       "      <td>A</td>\n",
       "      <td>B</td>\n",
       "      <td>B</td>\n",
       "      <td>B</td>\n",
       "    </tr>\n",
       "  </tbody>\n",
       "</table>\n",
       "<p>304 rows × 9 columns</p>\n",
       "</div>"
      ],
      "text/plain": [
       "       Name  Question Answer     Type data1 data2 data3 data4 data5\n",
       "0      1984       1.0      A  Fiction     A     A     A     A     A\n",
       "1      1984       2.0      B  Fiction     B     B     B     B     B\n",
       "2      1984       3.0      C  Fiction     C     C     C     C     C\n",
       "3      1984       4.0      A  Fiction     A     A     A     A     A\n",
       "4      1984       5.0      B  Fiction     B     B     A     B     C\n",
       "..      ...       ...    ...      ...   ...   ...   ...   ...   ...\n",
       "935  wizard       5.0      D  Fiction     D     A     A     A     A\n",
       "936  wizard       6.0      A  Fiction     B     A     A     A     A\n",
       "937  wizard       7.0      D  Fiction     B     D     B     D     D\n",
       "940  wizard      10.0      C  Fiction     B     C     C     B     B\n",
       "943  wizard      13.0      D  Fiction     D     A     B     B     B\n",
       "\n",
       "[304 rows x 9 columns]"
      ]
     },
     "execution_count": 147,
     "metadata": {},
     "output_type": "execute_result"
    }
   ],
   "source": [
    "# Create an empty DataFrame to store the combined data\n",
    "combined_data = pd.DataFrame()\n",
    "\n",
    "for csv_file in csv_files:\n",
    "    file_path = os.path.join('/content/drive/My Drive/Colab Notebooks', csv_file)  # Modify the path as needed\n",
    "    df = pd.read_csv(file_path)\n",
    "    \n",
    "        # Extract the name from df.columns[0] by removing \"[...]\" patterns\n",
    "    name_match = re.match(r'^(.*?)\\[[^\\]]*\\]$', df.columns[0])\n",
    "    if name_match:\n",
    "        name = name_match.group(1)  # Extract the name\n",
    "    else:\n",
    "        name = df.columns[0] \n",
    "        \n",
    "    df[\"Name\"] = name\n",
    "    # Check if the first column name contains \"Fiction Question\"\n",
    "    if \"Fiction Question\" in df.columns[0]:\n",
    "        df.rename(columns={df.columns[0]: \"Question\"}, inplace=True)\n",
    "        df.rename(columns={df.columns[1]: \"Answer\"}, inplace=True)\n",
    "        df.rename(columns={df.columns[2]: \"QuestionType\"}, inplace=True)\n",
    "        for col_idx in range(3, 8):\n",
    "            if col_idx >= len(df.columns):\n",
    "                df[\"data\" + str(col_idx - 2)] = None\n",
    "            else:\n",
    "                df.rename(columns={df.columns[col_idx]: \"data\" + str(col_idx - 2)}, inplace=True)\n",
    "        df[\"Type\"] = \"Fiction\"\n",
    "    elif \"Fiction Question\" in df.columns[0]:\n",
    "        df.rename(columns={df.columns[0]: \"Question\"}, inplace=True)\n",
    "        df.rename(columns={df.columns[1]: \"Answer\"}, inplace=True)\n",
    "        df.rename(columns={df.columns[2]: \"QuestionType\"}, inplace=True)\n",
    "        for col_idx in range(3, 8):\n",
    "            if col_idx >= len(df.columns):\n",
    "                df[\"data\" + str(col_idx - 2)] = None\n",
    "            else:\n",
    "                df.rename(columns={df.columns[col_idx]: \"data\" + str(col_idx - 2)}, inplace=True)\n",
    "        df[\"Type\"] = \"Non-fiction\"\n",
    "    elif  \"Fiction\" in df.columns[1]:\n",
    "        df.rename(columns={df.columns[1]: \"Question\"}, inplace=True)\n",
    "        df.rename(columns={df.columns[0]: \"Answer\"}, inplace=True)\n",
    "        for col_idx in range(2, 7):\n",
    "            if col_idx >= len(df.columns):\n",
    "                df[\"data\" + str(col_idx - 1)] = None\n",
    "            else:\n",
    "                df.rename(columns={df.columns[col_idx]: \"data\" + str(col_idx - 1)}, inplace=True)\n",
    "        df[\"Type\"] = \"Fiction\"\n",
    "    elif  \"Non-Fiction\" in df.columns[1]:\n",
    "        df.rename(columns={df.columns[1]: \"Question\"}, inplace=True)\n",
    "        df.rename(columns={df.columns[0]: \"Answer\"}, inplace=True)\n",
    "        for col_idx in range(2, 7):\n",
    "            if col_idx >= len(df.columns):\n",
    "                df[\"data\" + str(col_idx - 1)] = None\n",
    "            else:\n",
    "                df.rename(columns={df.columns[col_idx]: \"data\" + str(col_idx - 1)}, inplace=True)\n",
    "        df[\"Type\"] = \"Non-fiction\"\n",
    "    elif  \"Poem Question\" in df.columns[0]:\n",
    "        df.rename(columns={df.columns[1]: \"Question\"}, inplace=True)\n",
    "        df.rename(columns={df.columns[0]: \"Answer\"}, inplace=True)\n",
    "        for col_idx in range(3, 8):\n",
    "            if col_idx >= len(df.columns):\n",
    "                df[\"data\" + str(col_idx - 1)] = None\n",
    "            else:\n",
    "                df.rename(columns={df.columns[col_idx]: \"data\" + str(col_idx - 1)}, inplace=True)\n",
    "        df[\"Type\"] = \"Poem\"\n",
    "    \n",
    "    if \"QuestionType\" in df.columns:\n",
    "        columns_to_exclude = [\"QuestionType\"]\n",
    "        # Drop columns_to_exclude from the DataFrame\n",
    "        df.drop(columns=columns_to_exclude, inplace=True)\n",
    "    \n",
    "\n",
    "    # Concatenate the data with the combined DataFrame\n",
    "    combined_data = pd.concat([combined_data, df], ignore_index=True)\n",
    "\n",
    "# Remove rows where \"Name\" is NaN\n",
    "combined_data = combined_data.dropna(subset=[\"Name\",\"Question\",\"Answer\"])\n",
    "# remove duplicates\n",
    "combined_data.drop_duplicates(subset=['Question', 'Type', 'data1', 'data2', 'data3', 'data4'], keep='first', inplace=True)\n",
    "# Convert the 'Question' column to numeric, and coerce non-numeric values to NaN\n",
    "combined_data['Question'] = pd.to_numeric(combined_data['Question'], errors='coerce')\n",
    "\n",
    "# Remove rows where 'Question' is NaN (i.e., non-numeric)\n",
    "combined_data = combined_data.dropna(subset=['Question','Type', 'data1', 'data2', 'data3', 'data4'])\n",
    "\n",
    "# Select only the desired columns\n",
    "selected_columns = [\"Name\", \"Question\", \"Answer\", \"Type\", \"data1\", \"data2\", \"data3\", \"data4\",\"data5\"]\n",
    "combined_data = combined_data.loc[:, selected_columns]\n",
    "combined_data"
   ]
  },
  {
   "cell_type": "markdown",
   "metadata": {},
   "source": [
    "## Feauture Extraction"
   ]
  },
  {
   "cell_type": "code",
   "execution_count": 129,
   "metadata": {},
   "outputs": [
    {
     "data": {
      "text/plain": [
       "304"
      ]
     },
     "execution_count": 129,
     "metadata": {},
     "output_type": "execute_result"
    }
   ],
   "source": [
    "len(combined_data)"
   ]
  },
  {
   "cell_type": "markdown",
   "metadata": {},
   "source": [
    "## FEAUTURE EXTRACTION"
   ]
  },
  {
   "cell_type": "code",
   "execution_count": 148,
   "metadata": {},
   "outputs": [],
   "source": [
    "\n",
    "# Define features and target variable\n",
    "features = ['Question', 'Type', 'data1', 'data2', 'data3', 'data4']\n",
    "target = 'Answer'\n",
    "\n",
    "# Create a new binary target variable indicating whether 'data5' is equal to 'Answer'\n",
    "combined_data['Target'] = (combined_data['data5'] == combined_data['Answer']).astype(int)\n",
    "# combined_data['Target']\n",
    "# Convert 'data1' through 'data4' to integers\n",
    "letter_to_int_mapping = {'A': 1, 'B': 2, 'C': 3, 'D': 4, 'E': 5, 'F': 6}\n",
    "type_to_int_mapping = {'Fiction': 1, 'Non-fiction': 2, 'Poem': 3}\n",
    "# Drop columns with no observed values\n",
    "\n",
    "\n",
    "# Convert 'data1' through 'data4' to integers using the mapping\n",
    "for col in ['data1', 'data2', 'data3', 'data4']:\n",
    "    combined_data[col] = combined_data[col].map(letter_to_int_mapping)\n",
    "combined_data['Type'] = combined_data['Type'].map(type_to_int_mapping)\n",
    "\n"
   ]
  },
  {
   "cell_type": "markdown",
   "metadata": {},
   "source": [
    "## Train"
   ]
  },
  {
   "cell_type": "code",
   "execution_count": 149,
   "metadata": {},
   "outputs": [
    {
     "name": "stdout",
     "output_type": "stream",
     "text": [
      "Accuracy for Logistic Regression: 0.6065573770491803\n"
     ]
    },
    {
     "data": {
      "text/plain": [
       "0.6065573770491803"
      ]
     },
     "execution_count": 149,
     "metadata": {},
     "output_type": "execute_result"
    }
   ],
   "source": [
    "\n",
    "# Split the data into training and testing sets\n",
    "X_train, X_test, y_train, y_test = train_test_split(combined_data[features], combined_data['Target'], test_size=0.2, random_state=42)\n",
    "\n",
    "# Create and train a Logistic Regression model\n",
    "model = LogisticRegression()\n",
    "# Create an imputer to fill in missing values (e.g., with the mean)\n",
    "imputer = SimpleImputer(strategy='mean')\n",
    "\n",
    "# Fit and transform the imputer on your training data\n",
    "X_train_imputed = imputer.fit_transform(X_train)\n",
    "\n",
    "# Transform the test data as well\n",
    "X_test_imputed = imputer.transform(X_test)\n",
    "\n",
    "# Now, you can train your Logistic Regression model on the imputed data\n",
    "model.fit(X_train_imputed, y_train)\n",
    "# Make predictions on the test set\n",
    "y_pred = model.predict(X_test_imputed)\n",
    "\n",
    "# Calculate accuracy for the Logistic Regression model\n",
    "accuracy = accuracy_score(y_test, y_pred)\n",
    "\n",
    "# Print the accuracy\n",
    "print(\"Accuracy for Logistic Regression:\", accuracy)\n",
    "accuracy"
   ]
  },
  {
   "cell_type": "markdown",
   "metadata": {},
   "source": [
    "## Run Model"
   ]
  },
  {
   "cell_type": "code",
   "execution_count": 150,
   "metadata": {},
   "outputs": [
    {
     "name": "stdout",
     "output_type": "stream",
     "text": [
      "Predicted Answer: A\n"
     ]
    }
   ],
   "source": [
    "# Create a new data point (example)\n",
    "new_data = pd.DataFrame({\n",
    "    'Question': [5],\n",
    "    'Type': [\"Poem\"], \n",
    "    'data1': [\"B\"],\n",
    "    'data2': [\"D\"],\n",
    "    'data3': [\"B\"],\n",
    "    'data4': [\"D\"], \n",
    "})\n",
    "\n",
    "# Convert categorical 'Type' to integer using your mapping (e.g., 1 for Fiction)\n",
    "new_data['Type'] = new_data['Type'].map(type_to_int_mapping)\n",
    "for col in ['data1', 'data2', 'data3', 'data4']:\n",
    "    new_data[col] = new_data[col].map(letter_to_int_mapping)\n",
    "\n",
    "\n",
    "# Impute missing values if needed\n",
    "new_data_imputed = imputer.transform(new_data)\n",
    "\n",
    "# Make a prediction using the trained model\n",
    "prediction = model.predict(new_data_imputed)\n",
    "\n",
    "# Convert the prediction (0 or 1) back to the original label ('A', 'B', 'C', etc.)\n",
    "int_to_letter_mapping = {1: 'A', 2: 'B', 3: 'C', 4: 'D', 5: 'E', 6: 'F'}\n",
    "if prediction[0] in int_to_letter_mapping:\n",
    "    predicted_answer = int_to_letter_mapping[prediction[0]]\n",
    "\n",
    "    print(f\"Predicted Answer: {predicted_answer}\")\n",
    "else:\n",
    "    print('not sure of the answer')"
   ]
  },
  {
   "cell_type": "markdown",
   "metadata": {},
   "source": [
    "## 🤔 Model Interpretation \n",
    "### Feature Importance:\n",
    "While logistic regression doesn't provide feature importances like tree-based models, we can still assess the importance of each feature by looking at the magnitude (absolute value) of the coefficients. Larger coefficients suggest a stronger influence on the predicted probability."
   ]
  },
  {
   "cell_type": "code",
   "execution_count": 152,
   "metadata": {},
   "outputs": [
    {
     "name": "stdout",
     "output_type": "stream",
     "text": [
      "data3: -0.1723\n",
      "data4: 0.0974\n",
      "data1: 0.0342\n",
      "Question: -0.0258\n",
      "data2: 0.0063\n",
      "Type: 0.0001\n"
     ]
    }
   ],
   "source": [
    "# Get feature coefficients\n",
    "coef = model.coef_[0]\n",
    "\n",
    "# Associate coefficients with feature names\n",
    "feature_names = X_train.columns\n",
    "\n",
    "# Sort features by absolute coefficient value\n",
    "sorted_features = sorted(zip(feature_names, coef), key=lambda x: abs(x[1]), reverse=True)\n",
    "\n",
    "# Print or visualize the sorted features\n",
    "for feature, coefficient in sorted_features:\n",
    "    print(f\"{feature}: {coefficient:.4f}\")\n"
   ]
  },
  {
   "cell_type": "markdown",
   "metadata": {},
   "source": [
    "### Odds Ratio:\n",
    "to understand how a one-unit change in a feature affects the odds of the target variable being in a particular class."
   ]
  },
  {
   "cell_type": "code",
   "execution_count": 155,
   "metadata": {},
   "outputs": [
    {
     "name": "stdout",
     "output_type": "stream",
     "text": [
      "Question: 0.9746\n",
      "Type: 1.0001\n",
      "data1: 1.0348\n",
      "data2: 1.0063\n",
      "data3: 0.8417\n",
      "data4: 1.1023\n"
     ]
    }
   ],
   "source": [
    "\n",
    "odds_ratio = np.exp(coef)\n",
    "\n",
    "# Print or visualize the odds ratio for each feature\n",
    "for feature, ratio in zip(feature_names, odds_ratio):\n",
    "    print(f\"{feature}: {ratio:.4f}\")"
   ]
  },
  {
   "cell_type": "markdown",
   "metadata": {},
   "source": [
    "## ✅ Model Validation"
   ]
  },
  {
   "cell_type": "code",
   "execution_count": 158,
   "metadata": {},
   "outputs": [
    {
     "name": "stdout",
     "output_type": "stream",
     "text": [
      "Classification Report:\n",
      "               precision    recall  f1-score   support\n",
      "\n",
      "           0       0.59      0.91      0.71        33\n",
      "           1       0.70      0.25      0.37        28\n",
      "\n",
      "    accuracy                           0.61        61\n",
      "   macro avg       0.64      0.58      0.54        61\n",
      "weighted avg       0.64      0.61      0.56        61\n",
      "\n"
     ]
    }
   ],
   "source": [
    "print(\"Classification Report:\\n\", classification_report(y_test, y_pred))"
   ]
  },
  {
   "cell_type": "code",
   "execution_count": 161,
   "metadata": {},
   "outputs": [
    {
     "data": {
      "image/png": "[encoded data removed]",
      "text/plain": [
       "<Figure size 1200x500 with 2 Axes>"
      ]
     },
     "metadata": {},
     "output_type": "display_data"
    }
   ],
   "source": [
    "import seaborn as sns\n",
    "import matplotlib.pyplot as plt\n",
    "\n",
    "# Create a figure with subplots\n",
    "plt.figure(figsize=(12, 5))\n",
    "\n",
    "# Plot the distribution of y_train\n",
    "plt.subplot(1, 2, 1)\n",
    "sns.countplot(x=y_train)\n",
    "plt.title(\"Distribution of y_train\")\n",
    "\n",
    "# Plot the distribution of y_test\n",
    "plt.subplot(1, 2, 2)\n",
    "sns.countplot(x=y_test)\n",
    "plt.title(\"Distribution of y_test\")\n",
    "\n",
    "# Adjust layout\n",
    "plt.tight_layout()\n",
    "\n",
    "# Show the plots\n",
    "plt.show()\n"
   ]
  }
 ],
 "metadata": {
  "kernelspec": {
   "display_name": "Python 3",
   "language": "python",
   "name": "python3"
  },
  "language_info": {
   "codemirror_mode": {
    "name": "ipython",
    "version": 3
   },
   "file_extension": ".py",
   "mimetype": "text/x-python",
   "name": "python",
   "nbconvert_exporter": "python",
   "pygments_lexer": "ipython3",
   "version": "3.11.3"
  },
  "orig_nbformat": 4
 },
 "nbformat": 4,
 "nbformat_minor": 2
}
